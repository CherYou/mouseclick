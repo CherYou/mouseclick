{
 "cells": [
  {
   "cell_type": "code",
   "execution_count": 1,
   "metadata": {},
   "outputs": [],
   "source": [
    "import pyautogui\n",
    "import time\n",
    "pyautogui.PAUSE = 1"
   ]
  },
  {
   "cell_type": "code",
   "execution_count": 2,
   "metadata": {},
   "outputs": [
    {
     "ename": "KeyboardInterrupt",
     "evalue": "",
     "output_type": "error",
     "traceback": [
      "\u001b[1;31m---------------------------------------------------------------------------\u001b[0m",
      "\u001b[1;31mKeyboardInterrupt\u001b[0m                         Traceback (most recent call last)",
      "\u001b[1;32m~\\AppData\\Local\\Temp\\ipykernel_27512\\430526776.py\u001b[0m in \u001b[0;36m<module>\u001b[1;34m\u001b[0m\n\u001b[0;32m      3\u001b[0m     \u001b[1;32mtry\u001b[0m\u001b[1;33m:\u001b[0m\u001b[1;33m\u001b[0m\u001b[1;33m\u001b[0m\u001b[0m\n\u001b[0;32m      4\u001b[0m         \u001b[0mpyautogui\u001b[0m\u001b[1;33m.\u001b[0m\u001b[0mclick\u001b[0m\u001b[1;33m(\u001b[0m\u001b[1;36m2083\u001b[0m\u001b[1;33m,\u001b[0m\u001b[1;36m777\u001b[0m\u001b[1;33m,\u001b[0m\u001b[0mbutton\u001b[0m\u001b[1;33m=\u001b[0m\u001b[1;34m'left'\u001b[0m\u001b[1;33m)\u001b[0m  \u001b[1;31m# 单击左键\u001b[0m\u001b[1;33m\u001b[0m\u001b[1;33m\u001b[0m\u001b[0m\n\u001b[1;32m----> 5\u001b[1;33m         \u001b[0mtime\u001b[0m\u001b[1;33m.\u001b[0m\u001b[0msleep\u001b[0m\u001b[1;33m(\u001b[0m\u001b[1;36m1\u001b[0m\u001b[1;33m)\u001b[0m\u001b[1;33m\u001b[0m\u001b[1;33m\u001b[0m\u001b[0m\n\u001b[0m\u001b[0;32m      6\u001b[0m         \u001b[1;32mif\u001b[0m \u001b[0mi\u001b[0m\u001b[1;33m%\u001b[0m\u001b[1;36m10\u001b[0m \u001b[1;33m==\u001b[0m\u001b[1;36m0\u001b[0m\u001b[1;33m:\u001b[0m\u001b[1;33m\u001b[0m\u001b[1;33m\u001b[0m\u001b[0m\n\u001b[0;32m      7\u001b[0m             \u001b[0mpyautogui\u001b[0m\u001b[1;33m.\u001b[0m\u001b[0mclick\u001b[0m\u001b[1;33m(\u001b[0m\u001b[1;36m1400\u001b[0m\u001b[1;33m,\u001b[0m\u001b[1;36m777\u001b[0m\u001b[1;33m,\u001b[0m\u001b[0mbutton\u001b[0m\u001b[1;33m=\u001b[0m\u001b[1;34m'left'\u001b[0m\u001b[1;33m)\u001b[0m  \u001b[1;31m# 单击左键\u001b[0m\u001b[1;33m\u001b[0m\u001b[1;33m\u001b[0m\u001b[0m\n",
      "\u001b[1;31mKeyboardInterrupt\u001b[0m: "
     ]
    }
   ],
   "source": [
    "time.sleep(2)\n",
    "for i in range(10000):\n",
    "    try:\n",
    "        pyautogui.click(2083,777,button='left')  # 单击左键\n",
    "        time.sleep(1)\n",
    "        if i%10 ==0:\n",
    "            pyautogui.click(1400,777,button='left')  # 单击左键\n",
    "            pyautogui.click(1400,777,button='left')  # 单击左键\n",
    "        #if  pyautogui.locateOnScreen('last_page.png'):\n",
    "\n",
    "\n",
    "    except Exception as e:\n",
    "        print(e)"
   ]
  },
  {
   "cell_type": "code",
   "execution_count": 2,
   "metadata": {},
   "outputs": [],
   "source": [
    "def next():\n",
    "    time.sleep(1)  # 等待 0.5 秒\n",
    "    left, top, width, height = pyautogui.locateOnScreen('turn_next.png')  # 寻找 点赞图片；\n",
    "    center = pyautogui.center((left, top, width, height))  # 寻找 图片的中心\n",
    "    pyautogui.click(center)  # 点击\n",
    "    print('成功！')"
   ]
  },
  {
   "cell_type": "code",
   "execution_count": 3,
   "metadata": {},
   "outputs": [
    {
     "name": "stdout",
     "output_type": "stream",
     "text": [
      "ImageNotFoundException\n",
      "ImageNotFoundException\n",
      "ImageNotFoundException\n",
      "成功！\n",
      "ImageNotFoundException\n",
      "ImageNotFoundException\n",
      "ImageNotFoundException\n",
      "ImageNotFoundException\n",
      "成功！\n",
      "ImageNotFoundException\n",
      "ImageNotFoundException\n",
      "ImageNotFoundException\n",
      "ImageNotFoundException\n",
      "ImageNotFoundException\n",
      "ImageNotFoundException\n",
      "ImageNotFoundException\n",
      "ImageNotFoundException\n",
      "ImageNotFoundException\n",
      "ImageNotFoundException\n",
      "ImageNotFoundException\n",
      "ImageNotFoundException\n",
      "ImageNotFoundException\n",
      "ImageNotFoundException\n",
      "ImageNotFoundException\n"
     ]
    }
   ],
   "source": [
    "for i in range(10000):\n",
    "    try:\n",
    "        if pyautogui.locateOnScreen('turn_next.png'):\n",
    "            next()  # 调用点赞函数\n",
    "    except:\n",
    "        print(\"ImageNotFoundException\")"
   ]
  }
 ],
 "metadata": {
  "kernelspec": {
   "display_name": "base",
   "language": "python",
   "name": "python3"
  },
  "language_info": {
   "codemirror_mode": {
    "name": "ipython",
    "version": 3
   },
   "file_extension": ".py",
   "mimetype": "text/x-python",
   "name": "python",
   "nbconvert_exporter": "python",
   "pygments_lexer": "ipython3",
   "version": "3.7.7"
  }
 },
 "nbformat": 4,
 "nbformat_minor": 2
}
